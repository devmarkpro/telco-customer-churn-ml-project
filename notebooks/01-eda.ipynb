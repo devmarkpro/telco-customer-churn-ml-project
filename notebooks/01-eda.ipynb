{
 "cells": [
  {
   "metadata": {},
   "cell_type": "markdown",
   "source": "<a href=\"https://colab.research.google.com/github/devmarkpro/telco-customer-churn-ml-project/blob/main/notebooks/01-eda.ipynb\" target=\"_parent\"><img src=\"https://colab.research.google.com/assets/colab-badge.svg\" alt=\"Open In Colab\"/></a>",
   "id": "77c09dddadc858b2"
  },
  {
   "metadata": {},
   "cell_type": "markdown",
   "source": "# EDA on Telco Customer Churn Datasetf",
   "id": "dab5abdcc76c57a3"
  },
  {
   "metadata": {},
   "cell_type": "markdown",
   "source": [
    "## About the Dataset\n",
    "\n",
    "The Telco Customer Churn dataset contains information about customers of a telecommunications company, including their demographics, services they subscribed to, and whether they have churned (i.e., stopped being a customer). The dataset is commonly used for predictive modeling tasks, particularly in customer churn prediction.\n",
    "\n",
    "### Dataset Columns\n",
    "\n",
    "* **customerID**: Unique ID for each customer\n",
    "* **gender**: Gender of the customer (`Male` or `Female`)\n",
    "* **SeniorCitizen**: Indicates if the customer is a senior (`1` = Yes, `0` = No)\n",
    "* **Partner**: Whether the customer has a partner (`Yes` or `No`)\n",
    "* **Dependents**: Whether the customer has dependents (`Yes` or `No`)\n",
    "* **tenure**: Number of months the customer has been with the company\n",
    "* **PhoneService**: Whether the customer has phone service (`Yes` or `No`)\n",
    "* **MultipleLines**: Has multiple phone lines (`Yes`, `No`, or `No phone service`)\n",
    "* **InternetService**: Type of internet service (`DSL`, `Fiber optic`, or `No`)\n",
    "* **OnlineSecurity**: Whether online security is included (`Yes`, `No`, or `No internet service`)\n",
    "* **OnlineBackup**: Whether online backup is included (`Yes`, `No`, or `No internet service`)\n",
    "* **DeviceProtection**: Whether device protection is included (`Yes`, `No`, or `No internet service`)\n",
    "* **TechSupport**: Whether tech support is included (`Yes`, `No`, or `No internet service`)\n",
    "* **StreamingTV**: Access to streaming TV (`Yes`, `No`, or `No internet service`)\n",
    "* **StreamingMovies**: Access to streaming movies (`Yes`, `No`, or `No internet service`)\n",
    "* **Contract**: Type of contract (`Month-to-month`, `One year`, `Two year`)\n",
    "* **PaperlessBilling**: Whether billing is paperless (`Yes` or `No`)\n",
    "* **PaymentMethod**: Method of payment (`Electronic check`, `Mailed check`, etc.)\n",
    "* **MonthlyCharges**: Monthly amount charged to the customer\n",
    "* **TotalCharges**: Total amount charged over the tenure\n",
    "* **Churn**: Target variable — whether the customer churned (`Yes` or `No`)\n",
    "\n",
    "## References:\n",
    "\n",
    "- [Kaggle Dataset](https://www.kaggle.com/datasets/blastchar/telco-customer-churn)\n",
    "- [IBM Telco customer churn](https://community.ibm.com/community/user/blogs/steven-macko/2019/07/11/telco-customer-churn-1113)"
   ],
   "id": "3dcd8305e6c52955"
  },
  {
   "metadata": {},
   "cell_type": "markdown",
   "source": [
    "## TL;DR of the EDA Analysis and Insights\n",
    "\n",
    "### Target Variable: Churn\n",
    "\n",
    "The churn is a binary variable indicating whether a customer has churned (1) or not (0). The churn variable is imbalanced, with a higher number of customers not churning compared to those who churned which is common in customer churn datasets. Such imbalance can affect the performance of machine learning models, so it is important to consider this in future when we are building models.\n",
    "\n",
    "### Numerical Features\n",
    "\n",
    "The numerical features in the dataset are `tenure`, `MonthlyCharges`, and `TotalCharges`. Here are some insights from the numerical features:\n",
    "\n",
    "- Customers who churn tend to have lower tenure, it shows customers with longer tenure are less likely to churn.\n",
    "- Monthly charge has slight upward shift for churned customers, indicating that customers who pay more monthly are slightly more likely to churn.\n",
    "- TotalCharges is naturally correlated with tenure and MonthlyCharges, meaning, low TotalCharges are seen in churners due to shorter customer lifespan.\n",
    "\n",
    "### Categorical Features\n",
    "\n",
    "Categorical plots revealed several insights:\n",
    "\n",
    "- Customers with a month-to-month contract churn significantly more than those with one or two-year contracts.\n",
    "- Churn is higher among customers using electronic check as a payment method compared to those using automatic payment systems.\n",
    "- Fiber optic internet users show higher churn than DSL users, possibly due to pricing, performance expectations, or even the complexity of switching to another provider.\n",
    "\n",
    "\n",
    "### Outliers and Missing Values\n",
    "\n",
    "- Missing TotalCharges values (11 records) were removed after converting to numeric. This is a small portion of the data (<0.2%) and should not significantly bias the results so they have been removed.\n",
    "- Boxplots for numerical variables show no extreme outliers that require special handling.\n",
    "\n",
    "### Correlation Matrix\n",
    "\n",
    "Result of the correlation matrix shows that:\n",
    "\n",
    "- Strong positive correlation between tenure and TotalCharges. This is naturally expected as longer tenure means more total charges.\n",
    "- MonthlyCharges has a moderate positive correlation with TotalCharges, indicating that customers who pay more monthly tend to have higher total charges.\n",
    "- There are no high correlations (above 0.8) that would cause concern for multicollinearity at this stage.\n",
    "\n",
    "### Summary\n",
    "\n",
    "The exploratory analysis helped uncover key churn-related patterns:\n",
    "\n",
    "- Features such as tenure, Contract, PaymentMethod, and InternetService appear to be strong predictors of churn.\n",
    "- Some features are imbalanced (e.g., churn), which should be handled in modeling.\n",
    "- No major data quality issues remain after initial cleaning."
   ],
   "id": "c7e9fa4fe23fdcb3"
  },
  {
   "metadata": {},
   "cell_type": "code",
   "outputs": [],
   "execution_count": null,
   "source": [
    "import pandas as pd\n",
    "import seaborn as sns\n",
    "import matplotlib.pyplot as plt\n",
    "import numpy as np"
   ],
   "id": "5cf5480ecd350035"
  },
  {
   "metadata": {},
   "cell_type": "code",
   "outputs": [],
   "execution_count": null,
   "source": "df = pd.read_csv('../data/Telco-Customer-Churn.csv', delimiter=',')",
   "id": "42705f7a65baed80"
  },
  {
   "metadata": {},
   "cell_type": "code",
   "outputs": [],
   "execution_count": null,
   "source": "df.shape",
   "id": "2b0b0bd00399941d"
  },
  {
   "metadata": {},
   "cell_type": "code",
   "outputs": [],
   "execution_count": null,
   "source": "df.columns",
   "id": "60d1225133e5d03d"
  },
  {
   "metadata": {},
   "cell_type": "code",
   "outputs": [],
   "execution_count": null,
   "source": "df['TotalCharges'] = pd.to_numeric(df['TotalCharges'], errors='coerce')\n",
   "id": "84f63e8f42f41b4c"
  },
  {
   "metadata": {},
   "cell_type": "code",
   "outputs": [],
   "execution_count": null,
   "source": "df.loc[df[df['TotalCharges'].isnull()].index, 'TotalCharges']",
   "id": "3f81b8e1b0fc59e3"
  },
  {
   "metadata": {},
   "cell_type": "code",
   "outputs": [],
   "execution_count": null,
   "source": "df = df.dropna(subset=['TotalCharges'])",
   "id": "561a93c4805d0484"
  },
  {
   "metadata": {},
   "cell_type": "code",
   "outputs": [],
   "execution_count": null,
   "source": [
    "print(df.isnull().sum())\n",
    "print(df.duplicated().sum())"
   ],
   "id": "c8bd0db03e0f7b5d"
  },
  {
   "metadata": {},
   "cell_type": "code",
   "outputs": [],
   "execution_count": null,
   "source": [
    "demographic_features = [\"gender\", \"SeniorCitizen\", \"Partner\", \"Dependents\"]\n",
    "service_features = [\"PhoneService\", \"MultipleLines\", \"InternetService\", \"OnlineSecurity\",\n",
    "                    \"OnlineBackup\", \"DeviceProtection\", \"StreamingTV\", \"StreamingMovies\", \"TechSupport\"]\n",
    "payment_features = [\"Contract\", \"PaperlessBilling\", \"PaymentMethod\"]\n",
    "\n",
    "binary_features = ['gender', 'Partner', 'Dependents', 'PhoneService', 'PaperlessBilling', 'SeniorCitizen']\n",
    "categorical_features = list(set(service_features + payment_features) - set(binary_features))\n",
    "numeric_features = ['tenure', 'MonthlyCharges', 'TotalCharges']"
   ],
   "id": "fa1a527e0d0382c3"
  },
  {
   "metadata": {},
   "cell_type": "code",
   "outputs": [],
   "execution_count": null,
   "source": [
    "plt.figure(figsize=(12, 4))\n",
    "\n",
    "for i in range(0, len(numeric_features)):\n",
    "    plt.subplot(1, len(numeric_features), i + 1)\n",
    "    sns.boxplot(data=df, y=numeric_features[i])\n",
    "    plt.tight_layout()"
   ],
   "id": "ef634c2d48ae1655"
  },
  {
   "metadata": {},
   "cell_type": "code",
   "outputs": [],
   "execution_count": null,
   "source": [
    "plt.figure(figsize=(8, 4))\n",
    "ax = sns.countplot(x=df[\"Churn\"])\n",
    "ax.bar_label(ax.containers[0])\n",
    "plt.title(\"Distribution Churn\")\n",
    "plt.ylabel(\"Number of Customers\")\n",
    "plt.show()"
   ],
   "id": "bfbeca5fd71794fc"
  },
  {
   "metadata": {},
   "cell_type": "code",
   "outputs": [],
   "execution_count": null,
   "source": "df.columns",
   "id": "4033145b007867f7"
  },
  {
   "metadata": {},
   "cell_type": "code",
   "outputs": [],
   "execution_count": null,
   "source": [
    "\n",
    "features = demographic_features + service_features + payment_features\n",
    "feature_categories = (\n",
    "    ['Demographic'] * len(demographic_features) +\n",
    "    ['Service'] * len(service_features) +\n",
    "    ['Payment'] * len(payment_features)\n",
    ")\n",
    "category_colors = {\n",
    "    'Demographic': sns.color_palette(\"Set2\")[0],\n",
    "    'Service': sns.color_palette(\"Set2\")[1],\n",
    "    'Payment': sns.color_palette(\"Set2\")[2]\n",
    "}\n",
    "\n",
    "sns.set(style=\"whitegrid\", palette=\"Set2\")  # Set overall style\n",
    "\n",
    "# Layout setup\n",
    "n_rows = 5\n",
    "n_cols = (len(features) + n_rows - 1) // n_rows\n",
    "fig, axes = plt.subplots(nrows=n_rows, ncols=n_cols, figsize=(22, 14), constrained_layout=True)\n",
    "axes = axes.flatten()\n",
    "\n",
    "# Plot with beautification\n",
    "for i, feature in enumerate(features):\n",
    "    ax = axes[i]\n",
    "    category = feature_categories[i]\n",
    "    sns.countplot(x=df[feature], ax=ax, color=category_colors[category])\n",
    "    ax.bar_label(ax.containers[0], fontsize=9)\n",
    "    ax.set_title(f\"{feature_categories[i]}: {feature}\", fontsize=12)\n",
    "    ax.set_ylabel(\"Customers\", fontsize=10)\n",
    "    ax.set_xlabel(\"\", fontsize=10)\n",
    "    ax.tick_params(axis='x', labelrotation=20, labelsize=9)\n",
    "    ax.tick_params(axis='y', labelsize=9)\n",
    "\n",
    "# Hide unused axes\n",
    "for j in range(len(features), len(axes)):\n",
    "    axes[j].axis('off')\n",
    "\n",
    "fig.suptitle(\"Customer Distribution by Feature Category\", fontsize=16)\n",
    "plt.show()"
   ],
   "id": "9e757d685abd43a2"
  },
  {
   "metadata": {},
   "cell_type": "code",
   "outputs": [],
   "execution_count": null,
   "source": "sns.countplot(x='Churn', data=df)",
   "id": "a6746bb4cf8159f9"
  },
  {
   "metadata": {},
   "cell_type": "code",
   "outputs": [],
   "execution_count": null,
   "source": "sns.heatmap(df.corr(numeric_only=True), annot=True, cmap=\"coolwarm\")",
   "id": "5764cfc1332daf1e"
  },
  {
   "metadata": {},
   "cell_type": "code",
   "outputs": [],
   "execution_count": null,
   "source": [
    "# Set layout for plotting all in one figure\n",
    "n_cols = 3\n",
    "n_rows = (len(categorical_features) + n_cols - 1) // n_cols\n",
    "\n",
    "fig, axes = plt.subplots(nrows=n_rows, ncols=n_cols, figsize=(20, n_rows * 4))\n",
    "axes = axes.flatten()\n",
    "\n",
    "# Plot each categorical feature with 'Churn' as hue\n",
    "for i, col in enumerate(categorical_features):\n",
    "    sns.countplot(x=col, hue='Churn', data=df, ax=axes[i])\n",
    "    axes[i].set_title(f'Distribution of {col} by Churn')\n",
    "    axes[i].tick_params(axis='x', rotation=45)\n",
    "\n",
    "# Hide any unused subplots\n",
    "for j in range(len(categorical_features), len(axes)):\n",
    "    axes[j].axis('off')\n",
    "\n",
    "plt.tight_layout()\n",
    "plt.show()"
   ],
   "id": "c03d1e27a828e421"
  },
  {
   "metadata": {},
   "cell_type": "code",
   "outputs": [],
   "execution_count": null,
   "source": [
    "# Set theme\n",
    "sns.set(style=\"whitegrid\", palette=\"pastel\")\n",
    "\n",
    "\n",
    "# Create subplots\n",
    "fig, axes = plt.subplots(1, len(numeric_features), figsize=(18, 6), constrained_layout=True)\n",
    "\n",
    "# Loop over numeric features\n",
    "for i, col in enumerate(numeric_features):\n",
    "    sns.boxplot(data=df, y=col, x='Churn', ax=axes[i], width=0.5, notch=True)\n",
    "    axes[i].set_title(f\"{col}\", fontsize=13)\n",
    "    axes[i].set_xlabel(\"Churn\", fontsize=11)\n",
    "    axes[i].set_ylabel(col, fontsize=11)\n",
    "    axes[i].tick_params(labelsize=10)\n",
    "\n",
    "# Add main title\n",
    "fig.suptitle(\"Boxplots of Numerical Features by Churn\", fontsize=16)\n",
    "\n",
    "plt.show()"
   ],
   "id": "4c38c03f85cc86be"
  },
  {
   "metadata": {},
   "cell_type": "code",
   "outputs": [],
   "execution_count": null,
   "source": [
    "sns.set_theme(style=\"whitegrid\", palette=\"pastel\")  # Cleaner aesthetics\n",
    "\n",
    "# Layout: one row, adjust to 2 rows if needed for readability\n",
    "fig, axes = plt.subplots(1, len(numeric_features), figsize=(20, 6), constrained_layout=True)\n",
    "\n",
    "for i, col in enumerate(numeric_features):\n",
    "    sns.histplot(df[col], kde=True, ax=axes[i], color=\"skyblue\", edgecolor=\"white\", linewidth=1.3)\n",
    "    axes[i].set_title(f\"Distribution of {col}\", fontsize=13)\n",
    "    axes[i].set_xlabel(col, fontsize=11)\n",
    "    axes[i].set_ylabel(\"Count\", fontsize=11)\n",
    "    axes[i].tick_params(labelsize=10)\n",
    "\n",
    "fig.suptitle(\"Histograms with KDE of Numerical Features\", fontsize=16)\n",
    "plt.show()"
   ],
   "id": "ff90683b5d83b27a"
  },
  {
   "metadata": {},
   "cell_type": "code",
   "outputs": [],
   "execution_count": null,
   "source": "sns.pairplot(df[['tenure', 'MonthlyCharges', 'TotalCharges', 'Churn']], hue='Churn')\n",
   "id": "1e23ed0478f33f49"
  },
  {
   "metadata": {},
   "cell_type": "code",
   "outputs": [],
   "execution_count": null,
   "source": [
    "(df.groupby('Contract')['Churn']\n",
    "   .value_counts(normalize=True)\n",
    "   .unstack()\n",
    "   .plot(kind='bar', stacked=True))"
   ],
   "id": "9484585e4e180a6a"
  }
 ],
 "metadata": {
  "kernelspec": {
   "display_name": "csca-5622-supervised-learning",
   "language": "python",
   "name": "python3"
  },
  "language_info": {
   "codemirror_mode": {
    "name": "ipython",
    "version": 3
   },
   "file_extension": ".py",
   "mimetype": "text/x-python",
   "name": "python",
   "nbconvert_exporter": "python",
   "pygments_lexer": "ipython3",
   "version": "3.10.16"
  },
  "colab": {
   "provenance": [],
   "include_colab_link": true
  }
 },
 "nbformat": 4,
 "nbformat_minor": 5
}
